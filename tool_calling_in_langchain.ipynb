{
 "cells": [
  {
   "cell_type": "code",
   "execution_count": 30,
   "id": "653b7016",
   "metadata": {},
   "outputs": [],
   "source": [
    "from langchain_ollama import ChatOllama\n",
    "from langchain_core.tools import tool\n",
    "from langchain_openai import ChatOpenAI"
   ]
  },
  {
   "cell_type": "markdown",
   "id": "38f82840",
   "metadata": {},
   "source": [
    "# Tool create"
   ]
  },
  {
   "cell_type": "code",
   "execution_count": 31,
   "id": "7a0b1c0f",
   "metadata": {},
   "outputs": [],
   "source": [
    "@tool\n",
    "def multiply(a:int,b:int) ->  int :\n",
    "    ''' Given 2 numbers a and b this tool return product '''\n",
    "    return a * b"
   ]
  },
  {
   "cell_type": "code",
   "execution_count": null,
   "id": "02ebf592",
   "metadata": {},
   "outputs": [],
   "source": [
    "print(multiply.invoke({'a':2, 'b':3}))"
   ]
  },
  {
   "cell_type": "code",
   "execution_count": null,
   "id": "008a0548",
   "metadata": {},
   "outputs": [],
   "source": [
    "multiply.name"
   ]
  },
  {
   "cell_type": "code",
   "execution_count": null,
   "id": "4c3dc478",
   "metadata": {},
   "outputs": [],
   "source": [
    "multiply.description"
   ]
  },
  {
   "cell_type": "code",
   "execution_count": null,
   "id": "4be1b465",
   "metadata": {},
   "outputs": [],
   "source": [
    "multiply.args"
   ]
  },
  {
   "cell_type": "code",
   "execution_count": 18,
   "id": "feb2f4fa",
   "metadata": {},
   "outputs": [],
   "source": [
    "llm = ChatOllama(model='llama3.2:latest')"
   ]
  },
  {
   "cell_type": "code",
   "execution_count": null,
   "id": "f198ea40",
   "metadata": {},
   "outputs": [],
   "source": [
    "openai_llm = ChatOpenAI(api_key=\"\")"
   ]
  },
  {
   "cell_type": "code",
   "execution_count": null,
   "id": "61eb0c98",
   "metadata": {},
   "outputs": [],
   "source": [
    "openai_llm_with_tools = openai_llm.bind_tools([multiply,add])"
   ]
  },
  {
   "cell_type": "code",
   "execution_count": 34,
   "id": "daaf4d9d",
   "metadata": {},
   "outputs": [
    {
     "data": {
      "text/plain": [
       "AIMessage(content=\"Hello! I'm here and ready to assist you. How can I help you today?\", additional_kwargs={'refusal': None}, response_metadata={'token_usage': {'completion_tokens': 19, 'prompt_tokens': 59, 'total_tokens': 78, 'completion_tokens_details': {'accepted_prediction_tokens': 0, 'audio_tokens': 0, 'reasoning_tokens': 0, 'rejected_prediction_tokens': 0}, 'prompt_tokens_details': {'audio_tokens': 0, 'cached_tokens': 0}}, 'model_name': 'gpt-3.5-turbo-0125', 'system_fingerprint': None, 'id': 'chatcmpl-C0payED62YdSApVTALG9XZGZJnM0f', 'service_tier': 'default', 'finish_reason': 'stop', 'logprobs': None}, id='run--ce9a90de-539d-4190-b2d3-03ca7e145273-0', usage_metadata={'input_tokens': 59, 'output_tokens': 19, 'total_tokens': 78, 'input_token_details': {'audio': 0, 'cache_read': 0}, 'output_token_details': {'audio': 0, 'reasoning': 0}})"
      ]
     },
     "execution_count": 34,
     "metadata": {},
     "output_type": "execute_result"
    }
   ],
   "source": [
    "openai_llm_with_tools.invoke(\"Hi,How are you?\")"
   ]
  },
  {
   "cell_type": "code",
   "execution_count": 50,
   "id": "31a7a1ba",
   "metadata": {},
   "outputs": [],
   "source": [
    "result = openai_llm_with_tools.invoke(\"what is 3*3 ?\")"
   ]
  },
  {
   "cell_type": "code",
   "execution_count": 53,
   "id": "8496ede2",
   "metadata": {},
   "outputs": [
    {
     "data": {
      "text/plain": [
       "ToolMessage(content='9', name='multiply', tool_call_id='call_yW6hCdGwtyv5J5MWIkXSUnq2')"
      ]
     },
     "execution_count": 53,
     "metadata": {},
     "output_type": "execute_result"
    }
   ],
   "source": [
    "multiply.invoke(result.tool_calls[0])"
   ]
  },
  {
   "cell_type": "code",
   "execution_count": null,
   "id": "c5bc4176",
   "metadata": {},
   "outputs": [],
   "source": []
  },
  {
   "cell_type": "code",
   "execution_count": 52,
   "id": "2486653b",
   "metadata": {},
   "outputs": [
    {
     "data": {
      "text/plain": [
       "{'name': 'multiply',\n",
       " 'args': {'a': 3, 'b': 3},\n",
       " 'id': 'call_yW6hCdGwtyv5J5MWIkXSUnq2',\n",
       " 'type': 'tool_call'}"
      ]
     },
     "execution_count": 52,
     "metadata": {},
     "output_type": "execute_result"
    }
   ],
   "source": [
    "result.tool_calls[0]"
   ]
  },
  {
   "cell_type": "code",
   "execution_count": 19,
   "id": "5e27ac50",
   "metadata": {},
   "outputs": [],
   "source": [
    "llm_with_tools = llm.bind_tools([multiply])"
   ]
  },
  {
   "cell_type": "code",
   "execution_count": 27,
   "id": "14dc9053",
   "metadata": {},
   "outputs": [],
   "source": [
    "result = llm_with_tools.invoke('What is Agentic AI?')"
   ]
  },
  {
   "cell_type": "code",
   "execution_count": 28,
   "id": "a283898f",
   "metadata": {},
   "outputs": [
    {
     "data": {
      "text/plain": [
       "AIMessage(content='', additional_kwargs={}, response_metadata={'model': 'llama3.2:latest', 'created_at': '2025-08-04T13:26:21.4868404Z', 'done': True, 'done_reason': 'stop', 'total_duration': 17274080100, 'load_duration': 299162100, 'prompt_eval_count': 173, 'prompt_eval_duration': 13167384700, 'eval_count': 22, 'eval_duration': 3805284800, 'model_name': 'llama3.2:latest'}, id='run--20b5ca6d-4ec9-4748-83a8-249b23da2d0a-0', tool_calls=[{'name': 'multiply', 'args': {'a': 0, 'b': 1}, 'id': '31444a2a-52ac-475f-85ac-c3915cd672d6', 'type': 'tool_call'}], usage_metadata={'input_tokens': 173, 'output_tokens': 22, 'total_tokens': 195})"
      ]
     },
     "execution_count": 28,
     "metadata": {},
     "output_type": "execute_result"
    }
   ],
   "source": [
    "result"
   ]
  }
 ],
 "metadata": {
  "kernelspec": {
   "display_name": "myenv",
   "language": "python",
   "name": "python3"
  },
  "language_info": {
   "codemirror_mode": {
    "name": "ipython",
    "version": 3
   },
   "file_extension": ".py",
   "mimetype": "text/x-python",
   "name": "python",
   "nbconvert_exporter": "python",
   "pygments_lexer": "ipython3",
   "version": "3.10.11"
  }
 },
 "nbformat": 4,
 "nbformat_minor": 5
}
