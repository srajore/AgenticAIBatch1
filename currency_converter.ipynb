{
 "cells": [
  {
   "cell_type": "code",
   "execution_count": 1,
   "id": "1809e197",
   "metadata": {},
   "outputs": [],
   "source": [
    "from typing import TypedDict"
   ]
  },
  {
   "cell_type": "code",
   "execution_count": 8,
   "id": "8c89bbe3",
   "metadata": {},
   "outputs": [],
   "source": [
    "from langgraph.graph import  StateGraph,START,END"
   ]
  },
  {
   "cell_type": "code",
   "execution_count": 2,
   "id": "50f0196d",
   "metadata": {},
   "outputs": [],
   "source": [
    "class CurrencyState(TypedDict):\n",
    "    usd: float\n",
    "    eur: float"
   ]
  },
  {
   "cell_type": "code",
   "execution_count": 4,
   "id": "824f6604",
   "metadata": {},
   "outputs": [],
   "source": [
    "graph = StateGraph(CurrencyState)"
   ]
  },
  {
   "cell_type": "code",
   "execution_count": 5,
   "id": "ff1bb418",
   "metadata": {},
   "outputs": [],
   "source": [
    "def convert_currency(state : CurrencyState) -> CurrencyState:\n",
    "    state['eur']= round(state['usd'] * 0.87,2)\n",
    "    return state\n"
   ]
  },
  {
   "cell_type": "code",
   "execution_count": 6,
   "id": "82d8a7e6",
   "metadata": {},
   "outputs": [
    {
     "data": {
      "text/plain": [
       "<langgraph.graph.state.StateGraph at 0x261007d6f20>"
      ]
     },
     "execution_count": 6,
     "metadata": {},
     "output_type": "execute_result"
    }
   ],
   "source": [
    "graph.add_node(\"convert_currency\",convert_currency)"
   ]
  },
  {
   "cell_type": "code",
   "execution_count": 9,
   "id": "c50f8d4e",
   "metadata": {},
   "outputs": [
    {
     "data": {
      "text/plain": [
       "<langgraph.graph.state.StateGraph at 0x261007d6f20>"
      ]
     },
     "execution_count": 9,
     "metadata": {},
     "output_type": "execute_result"
    }
   ],
   "source": [
    "graph.add_edge(START,\"convert_currency\")"
   ]
  },
  {
   "cell_type": "code",
   "execution_count": 10,
   "id": "92530172",
   "metadata": {},
   "outputs": [
    {
     "data": {
      "text/plain": [
       "<langgraph.graph.state.StateGraph at 0x261007d6f20>"
      ]
     },
     "execution_count": 10,
     "metadata": {},
     "output_type": "execute_result"
    }
   ],
   "source": [
    "graph.add_edge(\"convert_currency\",END)"
   ]
  },
  {
   "cell_type": "code",
   "execution_count": 12,
   "id": "8065529a",
   "metadata": {},
   "outputs": [],
   "source": [
    "workflow = graph.compile()"
   ]
  },
  {
   "cell_type": "code",
   "execution_count": 15,
   "id": "21f6f559",
   "metadata": {},
   "outputs": [],
   "source": [
    "final_result = workflow.invoke({'usd': 20})"
   ]
  },
  {
   "cell_type": "code",
   "execution_count": 14,
   "id": "70376bb9",
   "metadata": {},
   "outputs": [
    {
     "name": "stdout",
     "output_type": "stream",
     "text": [
      "{'usd': 80, 'eur': 69.6}\n"
     ]
    }
   ],
   "source": [
    "print(final_result)"
   ]
  }
 ],
 "metadata": {
  "kernelspec": {
   "display_name": "myenv",
   "language": "python",
   "name": "python3"
  },
  "language_info": {
   "codemirror_mode": {
    "name": "ipython",
    "version": 3
   },
   "file_extension": ".py",
   "mimetype": "text/x-python",
   "name": "python",
   "nbconvert_exporter": "python",
   "pygments_lexer": "ipython3",
   "version": "3.10.11"
  }
 },
 "nbformat": 4,
 "nbformat_minor": 5
}
