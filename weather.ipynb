{
 "cells": [
  {
   "cell_type": "code",
   "execution_count": 3,
   "id": "e2ee2ae6",
   "metadata": {},
   "outputs": [],
   "source": [
    "from typing import TypedDict\n",
    "from langgraph.graph import StateGraph,START,END\n",
    "from langchain_ollama import ChatOllama"
   ]
  },
  {
   "cell_type": "code",
   "execution_count": 4,
   "id": "a23e3e29",
   "metadata": {},
   "outputs": [],
   "source": [
    "class WeatherState(TypedDict):\n",
    "    question: str\n",
    "    answer: str"
   ]
  },
  {
   "cell_type": "code",
   "execution_count": 5,
   "id": "6fd5c53f",
   "metadata": {},
   "outputs": [],
   "source": [
    "model = ChatOllama(model='llama3.2:latest')"
   ]
  },
  {
   "cell_type": "code",
   "execution_count": null,
   "id": "1ef7751b",
   "metadata": {},
   "outputs": [],
   "source": [
    "def weather_qa(state : WeatherState) -> WeatherState:\n",
    "    prompt = f\" Answer : {state['question']}\"\n",
    "    state['answer'] = model.invoke(prompt).content\n",
    "    return state"
   ]
  },
  {
   "cell_type": "code",
   "execution_count": 7,
   "id": "af96cff3",
   "metadata": {},
   "outputs": [
    {
     "data": {
      "text/plain": [
       "<langgraph.graph.state.StateGraph at 0x22960176350>"
      ]
     },
     "execution_count": 7,
     "metadata": {},
     "output_type": "execute_result"
    }
   ],
   "source": [
    "graph = StateGraph(WeatherState)\n",
    "graph.add_node(\"weather_qa\",weather_qa)\n",
    "graph.add_edge(START,\"weather_qa\")\n",
    "graph.add_edge(\"weather_qa\",END)"
   ]
  },
  {
   "cell_type": "code",
   "execution_count": 10,
   "id": "f6391a3e",
   "metadata": {},
   "outputs": [],
   "source": [
    "workflow = graph.compile()"
   ]
  },
  {
   "cell_type": "code",
   "execution_count": 16,
   "id": "595115d7",
   "metadata": {},
   "outputs": [
    {
     "name": "stdout",
     "output_type": "stream",
     "text": [
      "{'question': 'What is current weather of Pune city?', 'answer': \"I'm a large language model, I don't have real-time access to current weather data. However, I can suggest some ways for you to find out the current weather in Pune city:\\n\\n1. Check online weather websites: You can visit websites like AccuWeather, Weather.com, or India Meteorological Department (IMD) for the latest weather updates.\\n2. Use a mobile app: Download a weather app on your smartphone, such as Dark Sky or Weather Underground, which provides real-time weather information.\\n3. Tune into local news: Watch local news channels or listen to radio stations that provide weather updates in Pune city.\\n\\nPlease note that the accuracy of online weather forecasts depends on various factors like location, time, and weather conditions. It's always best to check multiple sources for the most up-to-date information.\\n\\nIf you want, I can give you an idea of what the typical weather is like in Pune during different times of the year:\\n\\n* Summer (April-June): Hot and dry with temperatures often reaching 35°C (95°F) or more.\\n* Monsoon (July-September): Heavy rainfall and high humidity with temperatures ranging from 20°C to\"}\n"
     ]
    }
   ],
   "source": [
    "initial_state = {\"question\":\"What is current weather of Pune city?\"}\n",
    "result = workflow.invoke(initial_state)\n",
    "print(result)"
   ]
  }
 ],
 "metadata": {
  "kernelspec": {
   "display_name": "myenv",
   "language": "python",
   "name": "python3"
  },
  "language_info": {
   "codemirror_mode": {
    "name": "ipython",
    "version": 3
   },
   "file_extension": ".py",
   "mimetype": "text/x-python",
   "name": "python",
   "nbconvert_exporter": "python",
   "pygments_lexer": "ipython3",
   "version": "3.10.11"
  }
 },
 "nbformat": 4,
 "nbformat_minor": 5
}
