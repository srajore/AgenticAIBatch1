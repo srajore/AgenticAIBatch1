{
  "nbformat": 4,
  "nbformat_minor": 0,
  "metadata": {
    "colab": {
      "provenance": []
    },
    "kernelspec": {
      "name": "python3",
      "display_name": "Python 3"
    },
    "language_info": {
      "name": "python"
    }
  },
  "cells": [
    {
      "cell_type": "code",
      "source": [
        "!pip install langchain_community duckduckgo-search"
      ],
      "metadata": {
        "id": "X7qM1lE9fsGp"
      },
      "execution_count": null,
      "outputs": []
    },
    {
      "cell_type": "code",
      "execution_count": null,
      "metadata": {
        "id": "wFlfYb3Ffi3K"
      },
      "outputs": [],
      "source": [
        "from langchain_community.tools import DuckDuckGoSearchRun"
      ]
    },
    {
      "cell_type": "code",
      "source": [
        "search_tool = DuckDuckGoSearchRun()"
      ],
      "metadata": {
        "id": "p3ZDqmnIf5GP"
      },
      "execution_count": null,
      "outputs": []
    },
    {
      "cell_type": "code",
      "source": [
        "result = search_tool.invoke(\"top news in India today with aajtak\")"
      ],
      "metadata": {
        "id": "ySbVJx4Mf_vo"
      },
      "execution_count": null,
      "outputs": []
    },
    {
      "cell_type": "code",
      "source": [
        "print(result)"
      ],
      "metadata": {
        "id": "j7GLHnZVgLox"
      },
      "execution_count": null,
      "outputs": []
    },
    {
      "cell_type": "code",
      "source": [
        "print(search_tool.name)"
      ],
      "metadata": {
        "id": "TOyQg6vWgjtV"
      },
      "execution_count": null,
      "outputs": []
    },
    {
      "cell_type": "code",
      "source": [
        "print(search_tool.description)"
      ],
      "metadata": {
        "id": "VsfW1LFFgu83"
      },
      "execution_count": null,
      "outputs": []
    },
    {
      "cell_type": "code",
      "source": [
        "print(search_tool.args)"
      ],
      "metadata": {
        "id": "Lqb6mVmLg3KT"
      },
      "execution_count": null,
      "outputs": []
    },
    {
      "cell_type": "code",
      "source": [
        "!pip install langchain_experimental"
      ],
      "metadata": {
        "id": "4gNfEl5Di4Cc"
      },
      "execution_count": null,
      "outputs": []
    },
    {
      "cell_type": "code",
      "source": [
        "from langchain_community.tools import ShellTool\n",
        "\n",
        "shell_tool = ShellTool()"
      ],
      "metadata": {
        "id": "VYI0VL3kiwLX"
      },
      "execution_count": null,
      "outputs": []
    },
    {
      "cell_type": "code",
      "source": [
        "result = shell_tool.invoke(\"ls\")"
      ],
      "metadata": {
        "id": "9F_9DrxxjAxa"
      },
      "execution_count": null,
      "outputs": []
    },
    {
      "cell_type": "code",
      "source": [
        "result"
      ],
      "metadata": {
        "id": "rebarz90jMwS"
      },
      "execution_count": null,
      "outputs": []
    }
  ]
}