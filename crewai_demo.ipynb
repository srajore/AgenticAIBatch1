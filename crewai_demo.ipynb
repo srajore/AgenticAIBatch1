{
  "cells": [
    {
      "cell_type": "code",
      "execution_count": null,
      "metadata": {
        "id": "CZgH9jcIwjJm"
      },
      "outputs": [],
      "source": [
        "!pip install crewai crewai_tools langchain langchain_community langchain_openai"
      ]
    },
    {
      "cell_type": "code",
      "execution_count": null,
      "metadata": {
        "colab": {
          "base_uri": "https://localhost:8080/"
        },
        "id": "DW_mLSvheL0j",
        "outputId": "0aeb6bfd-d926-417a-cee2-fcd3eb3d8840"
      },
      "outputs": [],
      "source": [
        "\n",
        "from langchain.chat_models import ChatOpenAI\n",
        "import os\n",
        "# Set OpenAI API Key\n",
        "os.environ[\"OPENAI_API_KEY\"] = \"\"\n",
        "\n",
        "# Load LLM Model\n",
        "llm = ChatOpenAI(temperature=0, model=\"gpt-4o-mini\")\n",
        "\n",
        "\n",
        "\n"
      ]
    },
    {
      "cell_type": "code",
      "execution_count": null,
      "metadata": {
        "id": "AkLd5ZXxd20I"
      },
      "outputs": [
        {
          "name": "stderr",
          "output_type": "stream",
          "text": [
            "d:\\AgenticAIBatch1\\myenv\\lib\\site-packages\\alembic\\config.py:592: DeprecationWarning: No path_separator found in configuration; falling back to legacy splitting on spaces, commas, and colons for prepend_sys_path.  Consider adding path_separator=os to Alembic config.\n",
            "  util.warn_deprecated(\n",
            "d:\\AgenticAIBatch1\\myenv\\lib\\site-packages\\embedchain\\embedder\\ollama.py:27: LangChainDeprecationWarning: The class `OllamaEmbeddings` was deprecated in LangChain 0.3.1 and will be removed in 1.0.0. An updated version of the class exists in the :class:`~langchain-ollama package and should be used instead. To use it run `pip install -U :class:`~langchain-ollama` and import as `from :class:`~langchain_ollama import OllamaEmbeddings``.\n",
            "  embeddings = OllamaEmbeddings(model=self.config.model, base_url=config.base_url)\n"
          ]
        },
        {
          "name": "stderr",
          "output_type": "stream",
          "text": [
            "2025-08-20 15:23:48,102 - 25044 - _common.py-_common:105 - INFO: Backing off send_request(...) for 0.1s (requests.exceptions.SSLError: HTTPSConnectionPool(host='us.i.posthog.com', port=443): Max retries exceeded with url: /batch/ (Caused by SSLError(SSLCertVerificationError(1, '[SSL: CERTIFICATE_VERIFY_FAILED] certificate verify failed: unable to get local issuer certificate (_ssl.c:1007)'))))\n",
            "2025-08-20 15:23:48,504 - 25044 - _common.py-_common:105 - INFO: Backing off send_request(...) for 0.8s (requests.exceptions.SSLError: HTTPSConnectionPool(host='us.i.posthog.com', port=443): Max retries exceeded with url: /batch/ (Caused by SSLError(SSLCertVerificationError(1, '[SSL: CERTIFICATE_VERIFY_FAILED] certificate verify failed: unable to get local issuer certificate (_ssl.c:1007)'))))\n",
            "2025-08-20 15:23:49,604 - 25044 - _common.py-_common:105 - INFO: Backing off send_request(...) for 0.6s (requests.exceptions.SSLError: HTTPSConnectionPool(host='us.i.posthog.com', port=443): Max retries exceeded with url: /batch/ (Caused by SSLError(SSLCertVerificationError(1, '[SSL: CERTIFICATE_VERIFY_FAILED] certificate verify failed: unable to get local issuer certificate (_ssl.c:1007)'))))\n",
            "2025-08-20 15:23:50,607 - 25044 - _common.py-_common:120 - ERROR: Giving up send_request(...) after 4 tries (requests.exceptions.SSLError: HTTPSConnectionPool(host='us.i.posthog.com', port=443): Max retries exceeded with url: /batch/ (Caused by SSLError(SSLCertVerificationError(1, '[SSL: CERTIFICATE_VERIFY_FAILED] certificate verify failed: unable to get local issuer certificate (_ssl.c:1007)'))))\n"
          ]
        }
      ],
      "source": [
        "from crewai_tools import WebsiteSearchTool\n",
        "import os\n",
        "\n",
        "# Instantiate Web Search Tool\n",
        "web_search_tool = WebsiteSearchTool()"
      ]
    },
    {
      "cell_type": "code",
      "execution_count": null,
      "metadata": {
        "id": "YtPd71AredmG"
      },
      "outputs": [],
      "source": [
        "\n",
        "from crewai import Agent\n",
        "\n",
        "# Create Agents\n",
        "researcher = Agent(\n",
        "    role='Market Research Analyst',\n",
        "    goal='Provide up-to-date market analysis of the AI industry',\n",
        "    backstory='An expert analyst with a keen eye for market trends.',\n",
        "    tools=[web_search_tool],  # Only uses web search tool\n",
        "    verbose=True\n",
        ")\n",
        "\n"
      ]
    },
    {
      "cell_type": "code",
      "execution_count": null,
      "metadata": {
        "id": "V5jg1PaPeuqw"
      },
      "outputs": [],
      "source": [
        "writer = Agent(\n",
        "    role='Content Writer',\n",
        "    goal='Craft engaging blog posts about the AI industry',\n",
        "    backstory='A skilled writer with a passion for technology.',\n",
        "    tools=[],  # No tools needed; writes based on research summary\n",
        "    verbose=True\n",
        ")\n",
        "\n"
      ]
    },
    {
      "cell_type": "code",
      "execution_count": null,
      "metadata": {
        "id": "d4d1HnU0fDtA"
      },
      "outputs": [],
      "source": [
        "\n",
        "from crewai import Task, Crew\n",
        "\n",
        "# Define Tasks\n",
        "research = Task(\n",
        "    description='Search the web for the latest AI trends and provide a summarized report.',\n",
        "    expected_output='A summary of the top 3 trending developments in AI with insights on their impact.',\n",
        "    agent=researcher\n",
        ")\n"
      ]
    },
    {
      "cell_type": "code",
      "execution_count": null,
      "metadata": {
        "id": "dr-NcRsGfOlm"
      },
      "outputs": [],
      "source": [
        "write = Task(\n",
        "    description='Write an engaging blog post about the AI industry based on the research analyst’s summary.',\n",
        "    expected_output='A well-structured, 4-paragraph blog post in markdown format with simple, engaging content.',\n",
        "    agent=writer,\n",
        "    output_file='blog-posts/new_post.md'  # Saves blog post in 'blog-posts' directory\n",
        ")\n"
      ]
    },
    {
      "cell_type": "code",
      "execution_count": null,
      "metadata": {
        "colab": {
          "base_uri": "https://localhost:8080/"
        },
        "id": "JmPhihYwfaIf",
        "outputId": "71d2fc44-dbf9-446b-bfcf-5b3f59b4ec87"
      },
      "outputs": [],
      "source": [
        "\n",
        "# Assemble the Crew\n",
        "crew = Crew(\n",
        "    agents=[researcher, writer],\n",
        "    tasks=[research, write],\n",
        "    verbose=True,\n",
        "    planning=True  # Enable AI planning feature\n",
        ")\n",
        "\n",
        "# Execute the Tasks\n",
        "crew.kickoff()\n"
      ]
    }
  ],
  "metadata": {
    "accelerator": "GPU",
    "colab": {
      "gpuType": "T4",
      "provenance": []
    },
    "kernelspec": {
      "display_name": "myenv",
      "language": "python",
      "name": "python3"
    },
    "language_info": {
      "codemirror_mode": {
        "name": "ipython",
        "version": 3
      },
      "file_extension": ".py",
      "mimetype": "text/x-python",
      "name": "python",
      "nbconvert_exporter": "python",
      "pygments_lexer": "ipython3",
      "version": "3.10.11"
    }
  },
  "nbformat": 4,
  "nbformat_minor": 0
}
