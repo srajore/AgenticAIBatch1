{
 "cells": [
  {
   "cell_type": "code",
   "execution_count": 14,
   "id": "fee94816",
   "metadata": {},
   "outputs": [],
   "source": [
    "from typing import TypedDict\n",
    "from langgraph.graph import StateGraph,START,END\n",
    "from langchain_ollama import ChatOllama"
   ]
  },
  {
   "cell_type": "code",
   "execution_count": 15,
   "id": "ff478a0c",
   "metadata": {},
   "outputs": [],
   "source": [
    "class RecipeState(TypedDict):\n",
    "    cuisine : str\n",
    "    ingredients : str\n",
    "    recipe : str"
   ]
  },
  {
   "cell_type": "code",
   "execution_count": 16,
   "id": "00cb2fe5",
   "metadata": {},
   "outputs": [],
   "source": [
    "model = ChatOllama(model=\"llama3.2:latest\")"
   ]
  },
  {
   "cell_type": "code",
   "execution_count": 18,
   "id": "4e784e54",
   "metadata": {},
   "outputs": [],
   "source": [
    "def list_ingredients(state : RecipeState ) -> RecipeState:\n",
    "    prompt = f\"list ingredients for a {state['cuisine']} dish.\"\n",
    "    state['ingredients'] = model.invoke(prompt).content\n",
    "    return state"
   ]
  },
  {
   "cell_type": "code",
   "execution_count": 19,
   "id": "efdbcd43",
   "metadata": {},
   "outputs": [],
   "source": [
    "def write_recipe(state: RecipeState) -> RecipeState:\n",
    "    prompt = f\"write a recipe for a {state['cuisine']} dish using : \\n {state['ingredients']}\"\n",
    "    state['recipe'] = model.invoke(prompt).content\n",
    "    return state"
   ]
  },
  {
   "cell_type": "code",
   "execution_count": 20,
   "id": "e67fefe6",
   "metadata": {},
   "outputs": [
    {
     "data": {
      "text/plain": [
       "<langgraph.graph.state.StateGraph at 0x2c27e4ab910>"
      ]
     },
     "execution_count": 20,
     "metadata": {},
     "output_type": "execute_result"
    }
   ],
   "source": [
    "graph = StateGraph(RecipeState)\n",
    "graph.add_node(\"list_ingredients\",list_ingredients)\n",
    "graph.add_node(\"write_recipe\",write_recipe)\n",
    "graph.add_edge(START,\"list_ingredients\")\n",
    "graph.add_edge(\"list_ingredients\",\"write_recipe\")\n",
    "graph.add_edge(\"write_recipe\",END)"
   ]
  },
  {
   "cell_type": "code",
   "execution_count": 21,
   "id": "3a6dab24",
   "metadata": {},
   "outputs": [],
   "source": [
    "workflow = graph.compile()"
   ]
  },
  {
   "cell_type": "code",
   "execution_count": 22,
   "id": "6be37501",
   "metadata": {},
   "outputs": [],
   "source": [
    "initial_state={'cuisine':'Italian Pizzaa'}"
   ]
  },
  {
   "cell_type": "code",
   "execution_count": 23,
   "id": "0dba416d",
   "metadata": {},
   "outputs": [],
   "source": [
    "result = workflow.invoke(initial_state)"
   ]
  },
  {
   "cell_type": "code",
   "execution_count": 24,
   "id": "7ec3e104",
   "metadata": {},
   "outputs": [
    {
     "name": "stdout",
     "output_type": "stream",
     "text": [
      "{'cuisine': 'Italian Pizzaa', 'ingredients': 'Here\\'s a list of common ingredients used in an Italian-style pizza:\\n\\n**Crust**\\n\\n* 2 cups of warm water\\n* 2 teaspoons of active dry yeast\\n* 3 tablespoons of olive oil\\n* 1 teaspoon of salt\\n* 4 cups of all-purpose flour (preferably \"00\" flour or Caputo flour)\\n\\n**Sauce**\\n\\n* 2 cups of crushed San Marzano tomatoes (or other fresh, flavorful tomatoes)\\n* 1/4 cup of extra-virgin olive oil\\n* 4 cloves of garlic, minced\\n* 1 teaspoon of dried oregano\\n* 1 teaspoon of dried basil\\n* Salt and pepper to taste\\n\\n**Cheese**\\n\\n* 8 ounces of fresh mozzarella cheese (preferably buffalo mozzarella)\\n* 1/2 cup of grated Parmesan cheese (Parmigiano-Reggiano)\\n\\n**Toppings**\\n\\n* Choose one or more from:\\n + Pepperoni or Italian sausage\\n + Mushrooms (button, cremini, or shiitake)\\n + Onions (red, yellow, or white)\\n + Bell peppers (green, red, or yellow)\\n + Olives (Kalamata or green)\\n + Artichokes (canned or fresh)\\n + Anchovies (optional)\\n + Prosciutto or ham\\n + Fresh arugula or basil leaves\\n\\n**Optional ingredients**\\n\\n* Sun-dried tomatoes for added flavor and texture\\n* Roasted vegetables, such as zucchini or eggplant\\n* Feta cheese for a tangy twist\\n* Fresh herbs, like oregano or rosemary, for extra flavor', 'recipe': 'Here\\'s a recipe for an Italian-style pizza that incorporates the ingredients listed:\\n\\n**Italian Pizza \"Caprese\" with Prosciutto and Artichokes**\\n\\n Servings: 4-6\\n\\n**Crust:**\\n\\n1. In a large mixing bowl, combine warm water (around 100°F to 110°F) and active dry yeast. Let it sit for 5-10 minutes until the yeast is activated and foamy.\\n2. Add olive oil, salt, and 2 cups of flour to the bowl. Mix until a shaggy dough forms.\\n3. Gradually add the remaining 2 cups of flour, kneading the dough for about 10 minutes until it becomes smooth and elastic.\\n4. Place the dough in a lightly oiled bowl, cover it with plastic wrap or a damp towel, and let it rise in a warm place for 1-2 hours until doubled in size.\\n\\n**Sauce:**\\n\\n1. In a blender or food processor, combine crushed San Marzano tomatoes, extra-virgin olive oil, minced garlic, dried oregano, dried basil, salt, and pepper.\\n2. Blend the sauce until smooth and well combined.\\n\\n**Cheese:**\\n\\n1. Slice 8 ounces of fresh mozzarella cheese into thin rounds.\\n\\n**Toppings:**\\n\\n1. Preheat your oven to 450°F (230°C) with a baking stone or baking sheet inside.\\n2. Punch down the dough and roll it out into a circle or rectangle shape, depending on your preference.\\n3. Spread the tomato sauce evenly over the dough, leaving a small border around the edges.\\n4. Arrange sliced mozzarella cheese on top of the sauce.\\n5. Top with prosciutto slices, artichoke hearts (canned or fresh), and any other toppings you like.\\n\\n**Optional ingredients:**\\n\\n1. Sprinkle some grated Parmesan cheese over the pizza for added flavor.\\n2. Add a few sun-dried tomatoes to the pizza for extra flavor and texture.\\n\\n**Baking the Pizza:**\\n\\n1. Place the pizza on the preheated baking stone or baking sheet.\\n2. Bake the pizza in the oven for 12-15 minutes until the crust is golden brown, the cheese is melted and bubbly, and the toppings are cooked through.\\n3. Remove the pizza from the oven and let it cool for a few minutes before slicing and serving.\\n\\n**Tips and Variations:**\\n\\n* Use high-quality ingredients to get the best flavor out of your pizza.\\n* Experiment with different toppings and combinations to find your favorite.\\n* Consider adding some fresh herbs, like oregano or rosemary, to the sauce for extra flavor.\\n* If you want a crispy crust, bake the pizza for an additional 2-3 minutes after it\\'s removed from the oven.\\n\\nEnjoy your delicious Italian-style pizza!'}\n"
     ]
    }
   ],
   "source": [
    "print(result)"
   ]
  }
 ],
 "metadata": {
  "kernelspec": {
   "display_name": "myenv",
   "language": "python",
   "name": "python3"
  },
  "language_info": {
   "codemirror_mode": {
    "name": "ipython",
    "version": 3
   },
   "file_extension": ".py",
   "mimetype": "text/x-python",
   "name": "python",
   "nbconvert_exporter": "python",
   "pygments_lexer": "ipython3",
   "version": "3.10.11"
  }
 },
 "nbformat": 4,
 "nbformat_minor": 5
}
