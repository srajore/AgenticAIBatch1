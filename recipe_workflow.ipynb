{
 "cells": [
  {
   "cell_type": "code",
   "execution_count": null,
   "id": "fee94816",
   "metadata": {},
   "outputs": [],
   "source": [
    "from typing import TypedDict\n",
    "from langgraph.graph import StateGraph,START,END"
   ]
  },
  {
   "cell_type": "code",
   "execution_count": null,
   "id": "ff478a0c",
   "metadata": {},
   "outputs": [],
   "source": [
    "class RecipeState(TypedDict):\n",
    "    cuisine : str\n",
    "    ingredients : str\n",
    "    recipe : str"
   ]
  },
  {
   "cell_type": "code",
   "execution_count": null,
   "id": "e67fefe6",
   "metadata": {},
   "outputs": [],
   "source": [
    "graph = StateGraph(RecipeState)\n",
    "graph.add_node(\"list_ingredients\",list_ingredients)\n",
    "graph.add_node(\"write_recipe\",write_recipe)"
   ]
  }
 ],
 "metadata": {
  "language_info": {
   "name": "python"
  }
 },
 "nbformat": 4,
 "nbformat_minor": 5
}
