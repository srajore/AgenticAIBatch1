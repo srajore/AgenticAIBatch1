{
 "cells": [
  {
   "cell_type": "code",
   "execution_count": 37,
   "id": "7a854bfe",
   "metadata": {},
   "outputs": [],
   "source": [
    "from typing import TypedDict\n",
    "from langgraph.graph import StateGraph,START,END\n"
   ]
  },
  {
   "cell_type": "code",
   "execution_count": 38,
   "id": "f612389e",
   "metadata": {},
   "outputs": [],
   "source": [
    "# Define State\n",
    "class VegRecipeState(TypedDict):\n",
    "    ingredients: dict\n",
    "    calories : float\n",
    "    fiber: float\n",
    "    fat_percentage: float\n",
    "    summary: str"
   ]
  },
  {
   "cell_type": "code",
   "execution_count": 39,
   "id": "1975de10",
   "metadata": {},
   "outputs": [],
   "source": [
    "def calculate_calories(state : VegRecipeState) -> dict:\n",
    "    # Mock calories data (kcal per 100g) : rice=130,mixed_vegetables=35,ghee=900\n",
    "    calories = (state['ingredients']['rice'] * 1.30 + state['ingredients']['mixed_vegetables'] * 0.35 + state['ingredients']['ghee'] * 9.00)\n",
    "    return {'calories':calories}"
   ]
  },
  {
   "cell_type": "code",
   "execution_count": 40,
   "id": "2b3fe978",
   "metadata": {},
   "outputs": [],
   "source": [
    "def calculate_fiber(state : VegRecipeState) -> dict:\n",
    "    # Mock fiber data (kcal per 100g) : rice=1.3,mixed_vegetables=4.0,ghee=0.0\n",
    "    fiber = (state['ingredients']['rice'] * 0.013 + state['ingredients']['mixed_vegetables'] * 0.04 + state['ingredients']['ghee'] * 0.0)\n",
    "    return {'fiber': fiber}"
   ]
  },
  {
   "cell_type": "code",
   "execution_count": 47,
   "id": "9df700af",
   "metadata": {},
   "outputs": [],
   "source": [
    "def calculate_fat_percentage(state : VegRecipeState) -> dict:\n",
    "    # Mock fat data (kcal per 100g) : rice=0.3 ,mixed_vegetables=0.2,ghee=100\n",
    "    total_weight = sum(state['ingredients'].values())\n",
    "    fat = (state['ingredients']['rice'] * 0.003 + state['ingredients']['mixed_vegetables'] * 0.002 + state['ingredients']['ghee'] * 1.0)\n",
    "    fat_percentage = (fat/total_weight)*100\n",
    "    return {'fat_percentage':fat_percentage}"
   ]
  },
  {
   "cell_type": "code",
   "execution_count": 58,
   "id": "fc5153b3",
   "metadata": {},
   "outputs": [],
   "source": [
    "def summary(state : VegRecipeState) -> dict:\n",
    "    summary = f\" Vegetable Briyani Nutrition : \\n {state['fiber']} \" \n",
    "    return {'summary': summary}"
   ]
  },
  {
   "cell_type": "code",
   "execution_count": 59,
   "id": "c78a32db",
   "metadata": {},
   "outputs": [
    {
     "data": {
      "text/plain": [
       "<langgraph.graph.state.StateGraph at 0x263c2d47310>"
      ]
     },
     "execution_count": 59,
     "metadata": {},
     "output_type": "execute_result"
    }
   ],
   "source": [
    "graph = StateGraph(VegRecipeState)\n",
    "graph.add_node(\"calculate_calories\",calculate_calories)\n",
    "graph.add_node(\"calculate_fiber\",calculate_fiber)\n",
    "graph.add_node(\"calculate_fat_percentage\",calculate_fat_percentage)\n",
    "graph.add_node(\"summary\",summary)\n",
    "graph.add_edge(START,\"calculate_calories\")\n",
    "graph.add_edge(START,\"calculate_fiber\")\n",
    "graph.add_edge(START,\"calculate_fat_percentage\")\n",
    "graph.add_edge(\"calculate_calories\",\"summary\")\n",
    "graph.add_edge(\"calculate_fiber\",\"summary\")\n",
    "graph.add_edge(\"calculate_fat_percentage\",\"summary\")\n",
    "graph.add_edge(\"summary\",END)\n"
   ]
  },
  {
   "cell_type": "code",
   "execution_count": 60,
   "id": "ae870950",
   "metadata": {},
   "outputs": [
    {
     "name": "stdout",
     "output_type": "stream",
     "text": [
      " Vegetable Briyani Nutrition : \n",
      " 3.3 \n"
     ]
    }
   ],
   "source": [
    "workflow = graph.compile()\n",
    "initial_state={\"ingredients\":{'rice':100,'mixed_vegetables':50,'ghee':10}}\n",
    "result = workflow.invoke(initial_state)\n",
    "print(result['summary'])"
   ]
  }
 ],
 "metadata": {
  "kernelspec": {
   "display_name": "myenv",
   "language": "python",
   "name": "python3"
  },
  "language_info": {
   "codemirror_mode": {
    "name": "ipython",
    "version": 3
   },
   "file_extension": ".py",
   "mimetype": "text/x-python",
   "name": "python",
   "nbconvert_exporter": "python",
   "pygments_lexer": "ipython3",
   "version": "3.10.11"
  }
 },
 "nbformat": 4,
 "nbformat_minor": 5
}
