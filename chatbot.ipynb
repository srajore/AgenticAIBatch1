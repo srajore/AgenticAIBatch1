{
 "cells": [
  {
   "cell_type": "code",
   "execution_count": 15,
   "id": "867748be",
   "metadata": {},
   "outputs": [],
   "source": [
    "from langgraph.graph import StateGraph,START,END\n",
    "from langchain_ollama import ChatOllama\n",
    "from typing import TypedDict,Annotated\n",
    "from langchain_core.messages import BaseMessage,HumanMessage\n",
    "from langgraph.graph.message import add_messages\n",
    "from langgraph.checkpoint.memory import MemorySaver\n"
   ]
  },
  {
   "cell_type": "code",
   "execution_count": 16,
   "id": "b38ba8df",
   "metadata": {},
   "outputs": [],
   "source": [
    "class ChatState(TypedDict):\n",
    "    messages : Annotated[list[BaseMessage],add_messages]"
   ]
  },
  {
   "cell_type": "code",
   "execution_count": 17,
   "id": "8e04d51e",
   "metadata": {},
   "outputs": [],
   "source": [
    "llm = ChatOllama(model=\"llama3.2:latest\")"
   ]
  },
  {
   "cell_type": "code",
   "execution_count": 18,
   "id": "9cd8c700",
   "metadata": {},
   "outputs": [],
   "source": [
    "def chat_node(state:ChatState) :\n",
    "    # take user query from state\n",
    "    messages = state['messages']\n",
    "    #sending it to llm\n",
    "    response = llm.invoke(messages)\n",
    "    # response store into the state\n",
    "    \n",
    "    return {'messages': [response]}"
   ]
  },
  {
   "cell_type": "code",
   "execution_count": 20,
   "id": "81360d05",
   "metadata": {},
   "outputs": [],
   "source": [
    "checkpointer = MemorySaver()\n",
    "\n",
    "graph = StateGraph(ChatState)\n",
    "\n",
    "graph.add_node(\"chat_node\", chat_node)\n",
    "\n",
    "graph.add_edge(START,\"chat_node\")\n",
    "\n",
    "graph.add_edge(\"chat_node\", END)\n",
    "\n",
    "#graph.compile()\n",
    "\n",
    "workflow = graph.compile(checkpointer=checkpointer)\n",
    "\n",
    "#print(workflow)\n",
    "\n",
    "initial_state={\n",
    "   'messages': HumanMessage(content=\"What is the capital of France?\")\n",
    "}\n",
    "\n",
    "#print(workflow.invoke(initial_state)['messages'][-1].content)\n"
   ]
  },
  {
   "cell_type": "code",
   "execution_count": null,
   "id": "a08986b3",
   "metadata": {},
   "outputs": [
    {
     "name": "stdout",
     "output_type": "stream",
     "text": [
      "User : My name is Sharad\n",
      "AI : Namaste Sharad. It's nice to meet you! Is there something I can help you with or would you like to chat?\n",
      "User : what is my Name?\n",
      "AI : Your name is Sharad, as we discussed earlier.\n",
      "User : what is 10*10?\n",
      "AI : Easy math question!\n",
      "\n",
      "10 * 10 = 100\n",
      "User : can you add 15 into the result\n",
      "AI : Another calculation!\n",
      "\n",
      "100 + 15 = 115\n"
     ]
    }
   ],
   "source": [
    "thread_id = '1'\n",
    "while True:\n",
    "\n",
    "    user_message = input(\"Type here :\")\n",
    "\n",
    "    print(\"User :\" ,user_message)\n",
    "\n",
    "    if user_message.strip().lower() in ['exit','bye','quit']:\n",
    "        break\n",
    "\n",
    "    config = {'configurable':{'thread_id':thread_id}}\n",
    "    response = workflow.invoke({'messages':[HumanMessage(content=user_message)]},config=config)\n",
    "\n",
    "    print(\"AI :\",response['messages'][-1].content)\n",
    "\n"
   ]
  }
 ],
 "metadata": {
  "kernelspec": {
   "display_name": "myenv",
   "language": "python",
   "name": "python3"
  },
  "language_info": {
   "codemirror_mode": {
    "name": "ipython",
    "version": 3
   },
   "file_extension": ".py",
   "mimetype": "text/x-python",
   "name": "python",
   "nbconvert_exporter": "python",
   "pygments_lexer": "ipython3",
   "version": "3.10.11"
  }
 },
 "nbformat": 4,
 "nbformat_minor": 5
}
