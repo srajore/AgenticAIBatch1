{
 "cells": [
  {
   "cell_type": "code",
   "execution_count": 1,
   "id": "e7b21f5e",
   "metadata": {},
   "outputs": [],
   "source": [
    "from typing import TypedDict\n",
    "from langgraph.graph import StateGraph,START,END"
   ]
  },
  {
   "cell_type": "code",
   "execution_count": 2,
   "id": "4564f620",
   "metadata": {},
   "outputs": [],
   "source": [
    "class TempratureState(TypedDict):\n",
    "    celsius: float\n",
    "    fahrenheit : float"
   ]
  },
  {
   "cell_type": "code",
   "execution_count": 3,
   "id": "075ab784",
   "metadata": {},
   "outputs": [],
   "source": [
    "def convert_temprature(state: TempratureState) -> TempratureState:\n",
    "    state['fahrenheit']=round(state['celsius'] * 9/5 +32,2)\n",
    "    return state"
   ]
  },
  {
   "cell_type": "code",
   "execution_count": null,
   "id": "b05db8b0",
   "metadata": {},
   "outputs": [
    {
     "data": {
      "text/plain": [
       "<langgraph.graph.state.StateGraph at 0x1579dd07dc0>"
      ]
     },
     "execution_count": 8,
     "metadata": {},
     "output_type": "execute_result"
    }
   ],
   "source": [
    "graph = StateGraph(TempratureState)\n",
    "graph.add_node(\"convert\",convert_temprature)\n",
    "#graph.add_node(\"test\",test)\n",
    "graph.add_edge(START,\"convert\")\n",
    "#graph.add_edge(\"convert\",\"test\")\n",
    "graph.add_edge(\"convert\",END)"
   ]
  },
  {
   "cell_type": "code",
   "execution_count": 9,
   "id": "f317234b",
   "metadata": {},
   "outputs": [
    {
     "data": {
      "image/png": "[encoded data removed]",
      "text/plain": [
       "<langgraph.graph.state.CompiledStateGraph object at 0x000001579DD1D8D0>"
      ]
     },
     "execution_count": 9,
     "metadata": {},
     "output_type": "execute_result"
    }
   ],
   "source": [
    "graph.compile()"
   ]
  }
 ],
 "metadata": {
  "kernelspec": {
   "display_name": "myenv",
   "language": "python",
   "name": "python3"
  },
  "language_info": {
   "codemirror_mode": {
    "name": "ipython",
    "version": 3
   },
   "file_extension": ".py",
   "mimetype": "text/x-python",
   "name": "python",
   "nbconvert_exporter": "python",
   "pygments_lexer": "ipython3",
   "version": "3.10.11"
  }
 },
 "nbformat": 4,
 "nbformat_minor": 5
}
