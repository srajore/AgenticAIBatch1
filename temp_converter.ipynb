{
 "cells": [
  {
   "cell_type": "code",
   "execution_count": 1,
   "id": "e7b21f5e",
   "metadata": {},
   "outputs": [],
   "source": [
    "from typing import TypedDict\n",
    "from langgraph.graph import StateGraph,START,END"
   ]
  },
  {
   "cell_type": "code",
   "execution_count": 2,
   "id": "4564f620",
   "metadata": {},
   "outputs": [],
   "source": [
    "class TempratureState(TypedDict):\n",
    "    celsius: float\n",
    "    fahrenheit : float"
   ]
  },
  {
   "cell_type": "code",
   "execution_count": 3,
   "id": "075ab784",
   "metadata": {},
   "outputs": [],
   "source": [
    "def convert_temprature(state: TempratureState) -> TempratureState:\n",
    "    state['fahrenheit']=round(state['celsius'] * 9/5 +32,2)\n",
    "    return state"
   ]
  },
  {
   "cell_type": "code",
   "execution_count": 10,
   "id": "b05db8b0",
   "metadata": {},
   "outputs": [
    {
     "data": {
      "text/plain": [
       "<langgraph.graph.state.StateGraph at 0x1579d8c94e0>"
      ]
     },
     "execution_count": 10,
     "metadata": {},
     "output_type": "execute_result"
    }
   ],
   "source": [
    "graph = StateGraph(TempratureState)\n",
    "graph.add_node(\"convert\",convert_temprature)\n",
    "#graph.add_node(\"test\",test)\n",
    "graph.add_edge(START,\"convert\")\n",
    "#graph.add_edge(\"convert\",\"test\")\n",
    "graph.add_edge(\"convert\",END)"
   ]
  },
  {
   "cell_type": "code",
   "execution_count": 15,
   "id": "f317234b",
   "metadata": {},
   "outputs": [],
   "source": [
    "workflow = graph.compile()"
   ]
  },
  {
   "cell_type": "code",
   "execution_count": 16,
   "id": "ffe16337",
   "metadata": {},
   "outputs": [
    {
     "name": "stdout",
     "output_type": "stream",
     "text": [
      "{'celsius': 37.5, 'fahrenheit': 99.5}\n"
     ]
    }
   ],
   "source": [
    "result = workflow.invoke({'celsius': 37.5})\n",
    "print(result)"
   ]
  }
 ],
 "metadata": {
  "kernelspec": {
   "display_name": "myenv",
   "language": "python",
   "name": "python3"
  },
  "language_info": {
   "codemirror_mode": {
    "name": "ipython",
    "version": 3
   },
   "file_extension": ".py",
   "mimetype": "text/x-python",
   "name": "python",
   "nbconvert_exporter": "python",
   "pygments_lexer": "ipython3",
   "version": "3.10.11"
  }
 },
 "nbformat": 4,
 "nbformat_minor": 5
}
